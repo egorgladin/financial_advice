{
 "cells": [
  {
   "cell_type": "code",
   "execution_count": 1,
   "metadata": {},
   "outputs": [],
   "source": [
    "import pandas as pd\n",
    "import numpy as np\n",
    "import scipy.sparse as spsp"
   ]
  },
  {
   "cell_type": "markdown",
   "metadata": {},
   "source": [
    "## Load transactions data\n",
    "For simplicity of prototype we only consider merchant groups"
   ]
  },
  {
   "cell_type": "code",
   "execution_count": 2,
   "metadata": {
    "scrolled": true
   },
   "outputs": [
    {
     "name": "stdout",
     "output_type": "stream",
     "text": [
      "(11987617, 5)\n"
     ]
    },
    {
     "data": {
      "text/html": [
       "<div>\n",
       "<style scoped>\n",
       "    .dataframe tbody tr th:only-of-type {\n",
       "        vertical-align: middle;\n",
       "    }\n",
       "\n",
       "    .dataframe tbody tr th {\n",
       "        vertical-align: top;\n",
       "    }\n",
       "\n",
       "    .dataframe thead th {\n",
       "        text-align: right;\n",
       "    }\n",
       "</style>\n",
       "<table border=\"1\" class=\"dataframe\">\n",
       "  <thead>\n",
       "    <tr style=\"text-align: right;\">\n",
       "      <th></th>\n",
       "      <th>party_rk</th>\n",
       "      <th>transaction_dttm</th>\n",
       "      <th>transaction_amt_rur</th>\n",
       "      <th>merchant_group_rk</th>\n",
       "      <th>category</th>\n",
       "    </tr>\n",
       "  </thead>\n",
       "  <tbody>\n",
       "    <tr>\n",
       "      <th>0</th>\n",
       "      <td>20337</td>\n",
       "      <td>2019-01-01</td>\n",
       "      <td>84.00</td>\n",
       "      <td>NaN</td>\n",
       "      <td>Сувениры</td>\n",
       "    </tr>\n",
       "    <tr>\n",
       "      <th>1</th>\n",
       "      <td>63404</td>\n",
       "      <td>2019-01-01</td>\n",
       "      <td>410.00</td>\n",
       "      <td>725.0</td>\n",
       "      <td>Фаст Фуд</td>\n",
       "    </tr>\n",
       "    <tr>\n",
       "      <th>2</th>\n",
       "      <td>24789</td>\n",
       "      <td>2019-01-01</td>\n",
       "      <td>701.44</td>\n",
       "      <td>NaN</td>\n",
       "      <td>Супермаркеты</td>\n",
       "    </tr>\n",
       "    <tr>\n",
       "      <th>3</th>\n",
       "      <td>57970</td>\n",
       "      <td>2019-01-01</td>\n",
       "      <td>6203.70</td>\n",
       "      <td>454.0</td>\n",
       "      <td>Дом/Ремонт</td>\n",
       "    </tr>\n",
       "    <tr>\n",
       "      <th>4</th>\n",
       "      <td>12232</td>\n",
       "      <td>2019-01-01</td>\n",
       "      <td>734.53</td>\n",
       "      <td>878.0</td>\n",
       "      <td>Супермаркеты</td>\n",
       "    </tr>\n",
       "  </tbody>\n",
       "</table>\n",
       "</div>"
      ],
      "text/plain": [
       "   party_rk transaction_dttm  transaction_amt_rur  merchant_group_rk  \\\n",
       "0     20337       2019-01-01                84.00                NaN   \n",
       "1     63404       2019-01-01               410.00              725.0   \n",
       "2     24789       2019-01-01               701.44                NaN   \n",
       "3     57970       2019-01-01              6203.70              454.0   \n",
       "4     12232       2019-01-01               734.53              878.0   \n",
       "\n",
       "       category  \n",
       "0      Сувениры  \n",
       "1      Фаст Фуд  \n",
       "2  Супермаркеты  \n",
       "3    Дом/Ремонт  \n",
       "4  Супермаркеты  "
      ]
     },
     "execution_count": 2,
     "metadata": {},
     "output_type": "execute_result"
    }
   ],
   "source": [
    "transactions_file = \"../hackathon_data/avk_hackathon_data_transactions.csv\"\n",
    "useful_cols = ['party_rk', 'transaction_dttm', 'transaction_amt_rur', 'merchant_group_rk', 'category']\n",
    "transactions = pd.read_csv(transactions_file, usecols=useful_cols, parse_dates=['transaction_dttm'])\n",
    "print(transactions.shape)\n",
    "transactions.head()"
   ]
  },
  {
   "cell_type": "markdown",
   "metadata": {},
   "source": [
    "## Load socio-demographic data"
   ]
  },
  {
   "cell_type": "code",
   "execution_count": 3,
   "metadata": {
    "scrolled": true
   },
   "outputs": [
    {
     "name": "stdout",
     "output_type": "stream",
     "text": [
      "(50000, 2)\n"
     ]
    },
    {
     "data": {
      "text/html": [
       "<div>\n",
       "<style scoped>\n",
       "    .dataframe tbody tr th:only-of-type {\n",
       "        vertical-align: middle;\n",
       "    }\n",
       "\n",
       "    .dataframe tbody tr th {\n",
       "        vertical-align: top;\n",
       "    }\n",
       "\n",
       "    .dataframe thead th {\n",
       "        text-align: right;\n",
       "    }\n",
       "</style>\n",
       "<table border=\"1\" class=\"dataframe\">\n",
       "  <thead>\n",
       "    <tr style=\"text-align: right;\">\n",
       "      <th></th>\n",
       "      <th>party_rk</th>\n",
       "      <th>age</th>\n",
       "    </tr>\n",
       "  </thead>\n",
       "  <tbody>\n",
       "    <tr>\n",
       "      <th>0</th>\n",
       "      <td>61243</td>\n",
       "      <td>70.0</td>\n",
       "    </tr>\n",
       "    <tr>\n",
       "      <th>1</th>\n",
       "      <td>66535</td>\n",
       "      <td>25.0</td>\n",
       "    </tr>\n",
       "    <tr>\n",
       "      <th>2</th>\n",
       "      <td>83721</td>\n",
       "      <td>55.0</td>\n",
       "    </tr>\n",
       "    <tr>\n",
       "      <th>3</th>\n",
       "      <td>88238</td>\n",
       "      <td>35.0</td>\n",
       "    </tr>\n",
       "    <tr>\n",
       "      <th>4</th>\n",
       "      <td>57179</td>\n",
       "      <td>30.0</td>\n",
       "    </tr>\n",
       "  </tbody>\n",
       "</table>\n",
       "</div>"
      ],
      "text/plain": [
       "   party_rk   age\n",
       "0     61243  70.0\n",
       "1     66535  25.0\n",
       "2     83721  55.0\n",
       "3     88238  35.0\n",
       "4     57179  30.0"
      ]
     },
     "execution_count": 3,
     "metadata": {},
     "output_type": "execute_result"
    }
   ],
   "source": [
    "socdem_file = \"../hackathon_data/avk_hackathon_data_party_x_socdem.csv\"\n",
    "useful_cols = ['party_rk', 'age']\n",
    "socdem = pd.read_csv(socdem_file, usecols=useful_cols)\n",
    "print(socdem.shape)\n",
    "socdem.head()"
   ]
  },
  {
   "cell_type": "markdown",
   "metadata": {},
   "source": [
    "## Merge datasets and select people aged 60+"
   ]
  },
  {
   "cell_type": "code",
   "execution_count": 4,
   "metadata": {
    "scrolled": true
   },
   "outputs": [
    {
     "name": "stdout",
     "output_type": "stream",
     "text": [
      "(344202, 5)\n"
     ]
    },
    {
     "data": {
      "text/html": [
       "<div>\n",
       "<style scoped>\n",
       "    .dataframe tbody tr th:only-of-type {\n",
       "        vertical-align: middle;\n",
       "    }\n",
       "\n",
       "    .dataframe tbody tr th {\n",
       "        vertical-align: top;\n",
       "    }\n",
       "\n",
       "    .dataframe thead th {\n",
       "        text-align: right;\n",
       "    }\n",
       "</style>\n",
       "<table border=\"1\" class=\"dataframe\">\n",
       "  <thead>\n",
       "    <tr style=\"text-align: right;\">\n",
       "      <th></th>\n",
       "      <th>party_rk</th>\n",
       "      <th>transaction_dttm</th>\n",
       "      <th>transaction_amt_rur</th>\n",
       "      <th>merchant_group_rk</th>\n",
       "      <th>category</th>\n",
       "    </tr>\n",
       "  </thead>\n",
       "  <tbody>\n",
       "    <tr>\n",
       "      <th>19767</th>\n",
       "      <td>29815</td>\n",
       "      <td>2019-01-01</td>\n",
       "      <td>757.03</td>\n",
       "      <td>341.0</td>\n",
       "      <td>Супермаркеты</td>\n",
       "    </tr>\n",
       "    <tr>\n",
       "      <th>19775</th>\n",
       "      <td>29815</td>\n",
       "      <td>2019-01-01</td>\n",
       "      <td>314.00</td>\n",
       "      <td>341.0</td>\n",
       "      <td>Супермаркеты</td>\n",
       "    </tr>\n",
       "    <tr>\n",
       "      <th>19779</th>\n",
       "      <td>29815</td>\n",
       "      <td>2019-01-10</td>\n",
       "      <td>1470.61</td>\n",
       "      <td>341.0</td>\n",
       "      <td>Супермаркеты</td>\n",
       "    </tr>\n",
       "    <tr>\n",
       "      <th>19784</th>\n",
       "      <td>29815</td>\n",
       "      <td>2019-01-15</td>\n",
       "      <td>53.90</td>\n",
       "      <td>878.0</td>\n",
       "      <td>Супермаркеты</td>\n",
       "    </tr>\n",
       "    <tr>\n",
       "      <th>19792</th>\n",
       "      <td>29815</td>\n",
       "      <td>2019-01-17</td>\n",
       "      <td>251.00</td>\n",
       "      <td>589.0</td>\n",
       "      <td>Связь/Телеком</td>\n",
       "    </tr>\n",
       "  </tbody>\n",
       "</table>\n",
       "</div>"
      ],
      "text/plain": [
       "       party_rk transaction_dttm  transaction_amt_rur  merchant_group_rk  \\\n",
       "19767     29815       2019-01-01               757.03              341.0   \n",
       "19775     29815       2019-01-01               314.00              341.0   \n",
       "19779     29815       2019-01-10              1470.61              341.0   \n",
       "19784     29815       2019-01-15                53.90              878.0   \n",
       "19792     29815       2019-01-17               251.00              589.0   \n",
       "\n",
       "            category  \n",
       "19767   Супермаркеты  \n",
       "19775   Супермаркеты  \n",
       "19779   Супермаркеты  \n",
       "19784   Супермаркеты  \n",
       "19792  Связь/Телеком  "
      ]
     },
     "execution_count": 4,
     "metadata": {},
     "output_type": "execute_result"
    }
   ],
   "source": [
    "df = pd.merge(transactions, socdem, on='party_rk').dropna(subset=['merchant_group_rk'])\n",
    "df.drop(df[df.age < 60].index, inplace=True)\n",
    "df.drop(columns='age', inplace=True)\n",
    "print(df.shape)\n",
    "df.head()"
   ]
  },
  {
   "cell_type": "markdown",
   "metadata": {},
   "source": [
    "## Calculate monthly expenses for each merchant group"
   ]
  },
  {
   "cell_type": "code",
   "execution_count": 5,
   "metadata": {
    "scrolled": true
   },
   "outputs": [
    {
     "name": "stdout",
     "output_type": "stream",
     "text": [
      "(133367, 1)\n"
     ]
    },
    {
     "data": {
      "text/html": [
       "<div>\n",
       "<style scoped>\n",
       "    .dataframe tbody tr th:only-of-type {\n",
       "        vertical-align: middle;\n",
       "    }\n",
       "\n",
       "    .dataframe tbody tr th {\n",
       "        vertical-align: top;\n",
       "    }\n",
       "\n",
       "    .dataframe thead th {\n",
       "        text-align: right;\n",
       "    }\n",
       "</style>\n",
       "<table border=\"1\" class=\"dataframe\">\n",
       "  <thead>\n",
       "    <tr style=\"text-align: right;\">\n",
       "      <th></th>\n",
       "      <th></th>\n",
       "      <th></th>\n",
       "      <th></th>\n",
       "      <th>monthly_amt</th>\n",
       "    </tr>\n",
       "    <tr>\n",
       "      <th>transaction_dttm</th>\n",
       "      <th>party_rk</th>\n",
       "      <th>merchant_group_rk</th>\n",
       "      <th>category</th>\n",
       "      <th></th>\n",
       "    </tr>\n",
       "  </thead>\n",
       "  <tbody>\n",
       "    <tr>\n",
       "      <th rowspan=\"5\" valign=\"top\">2019-01-31</th>\n",
       "      <th>8</th>\n",
       "      <th>205.0</th>\n",
       "      <th>Красота</th>\n",
       "      <td>3935.00</td>\n",
       "    </tr>\n",
       "    <tr>\n",
       "      <th rowspan=\"4\" valign=\"top\">30</th>\n",
       "      <th>243.0</th>\n",
       "      <th>Финансовые услуги</th>\n",
       "      <td>5100.00</td>\n",
       "    </tr>\n",
       "    <tr>\n",
       "      <th>999.0</th>\n",
       "      <th>Супермаркеты</th>\n",
       "      <td>520.25</td>\n",
       "    </tr>\n",
       "    <tr>\n",
       "      <th>1211.0</th>\n",
       "      <th>Аптеки</th>\n",
       "      <td>1257.00</td>\n",
       "    </tr>\n",
       "    <tr>\n",
       "      <th>2259.0</th>\n",
       "      <th>Финансовые услуги</th>\n",
       "      <td>11.00</td>\n",
       "    </tr>\n",
       "  </tbody>\n",
       "</table>\n",
       "</div>"
      ],
      "text/plain": [
       "                                                               monthly_amt\n",
       "transaction_dttm party_rk merchant_group_rk category                      \n",
       "2019-01-31       8        205.0             Красота                3935.00\n",
       "                 30       243.0             Финансовые услуги      5100.00\n",
       "                          999.0             Супермаркеты            520.25\n",
       "                          1211.0            Аптеки                 1257.00\n",
       "                          2259.0            Финансовые услуги        11.00"
      ]
     },
     "execution_count": 5,
     "metadata": {},
     "output_type": "execute_result"
    }
   ],
   "source": [
    "monthly = pd.Grouper(key='transaction_dttm',freq='M')\n",
    "df_monthly = df.groupby([monthly, 'party_rk', 'merchant_group_rk', 'category']).agg({'transaction_amt_rur': 'sum'})\n",
    "df_monthly.rename(columns={'transaction_amt_rur': 'monthly_amt'}, inplace=True)\n",
    "print(df_monthly.shape)\n",
    "df_monthly.head()"
   ]
  },
  {
   "cell_type": "markdown",
   "metadata": {},
   "source": [
    "## Find average monthly expenses for each merchant group"
   ]
  },
  {
   "cell_type": "code",
   "execution_count": 6,
   "metadata": {
    "scrolled": true
   },
   "outputs": [
    {
     "name": "stdout",
     "output_type": "stream",
     "text": [
      "(53577, 4)\n"
     ]
    },
    {
     "data": {
      "text/html": [
       "<div>\n",
       "<style scoped>\n",
       "    .dataframe tbody tr th:only-of-type {\n",
       "        vertical-align: middle;\n",
       "    }\n",
       "\n",
       "    .dataframe tbody tr th {\n",
       "        vertical-align: top;\n",
       "    }\n",
       "\n",
       "    .dataframe thead th {\n",
       "        text-align: right;\n",
       "    }\n",
       "</style>\n",
       "<table border=\"1\" class=\"dataframe\">\n",
       "  <thead>\n",
       "    <tr style=\"text-align: right;\">\n",
       "      <th></th>\n",
       "      <th>party_rk</th>\n",
       "      <th>merchant_group_rk</th>\n",
       "      <th>category</th>\n",
       "      <th>avg_monthly_amt</th>\n",
       "    </tr>\n",
       "  </thead>\n",
       "  <tbody>\n",
       "    <tr>\n",
       "      <th>0</th>\n",
       "      <td>8</td>\n",
       "      <td>100.0</td>\n",
       "      <td>Разные товары</td>\n",
       "      <td>311.0</td>\n",
       "    </tr>\n",
       "    <tr>\n",
       "      <th>1</th>\n",
       "      <td>8</td>\n",
       "      <td>113.0</td>\n",
       "      <td>Дом/Ремонт</td>\n",
       "      <td>69.0</td>\n",
       "    </tr>\n",
       "    <tr>\n",
       "      <th>2</th>\n",
       "      <td>8</td>\n",
       "      <td>205.0</td>\n",
       "      <td>Красота</td>\n",
       "      <td>3935.0</td>\n",
       "    </tr>\n",
       "    <tr>\n",
       "      <th>3</th>\n",
       "      <td>8</td>\n",
       "      <td>341.0</td>\n",
       "      <td>Супермаркеты</td>\n",
       "      <td>466.0</td>\n",
       "    </tr>\n",
       "    <tr>\n",
       "      <th>4</th>\n",
       "      <td>8</td>\n",
       "      <td>610.0</td>\n",
       "      <td>Супермаркеты</td>\n",
       "      <td>324.0</td>\n",
       "    </tr>\n",
       "  </tbody>\n",
       "</table>\n",
       "</div>"
      ],
      "text/plain": [
       "   party_rk  merchant_group_rk       category  avg_monthly_amt\n",
       "0         8              100.0  Разные товары            311.0\n",
       "1         8              113.0     Дом/Ремонт             69.0\n",
       "2         8              205.0        Красота           3935.0\n",
       "3         8              341.0   Супермаркеты            466.0\n",
       "4         8              610.0   Супермаркеты            324.0"
      ]
     },
     "execution_count": 6,
     "metadata": {},
     "output_type": "execute_result"
    }
   ],
   "source": [
    "df_monthly = df_monthly.groupby(['party_rk', 'merchant_group_rk', 'category']).agg({'monthly_amt': 'mean'})\n",
    "df_monthly.rename(columns={'monthly_amt': 'avg_monthly_amt'}, inplace=True)\n",
    "df_monthly.reset_index(inplace=True)\n",
    "print(df_monthly.shape)\n",
    "df_monthly.head()"
   ]
  },
  {
   "cell_type": "markdown",
   "metadata": {},
   "source": [
    "## Average monthly spendings over all merchant groups"
   ]
  },
  {
   "cell_type": "code",
   "execution_count": 7,
   "metadata": {
    "scrolled": false
   },
   "outputs": [
    {
     "name": "stdout",
     "output_type": "stream",
     "text": [
      "(4141, 1)\n"
     ]
    },
    {
     "data": {
      "text/html": [
       "<div>\n",
       "<style scoped>\n",
       "    .dataframe tbody tr th:only-of-type {\n",
       "        vertical-align: middle;\n",
       "    }\n",
       "\n",
       "    .dataframe tbody tr th {\n",
       "        vertical-align: top;\n",
       "    }\n",
       "\n",
       "    .dataframe thead th {\n",
       "        text-align: right;\n",
       "    }\n",
       "</style>\n",
       "<table border=\"1\" class=\"dataframe\">\n",
       "  <thead>\n",
       "    <tr style=\"text-align: right;\">\n",
       "      <th></th>\n",
       "      <th>avg_monthly_amt_overall</th>\n",
       "    </tr>\n",
       "    <tr>\n",
       "      <th>party_rk</th>\n",
       "      <th></th>\n",
       "    </tr>\n",
       "  </thead>\n",
       "  <tbody>\n",
       "    <tr>\n",
       "      <th>8</th>\n",
       "      <td>7737.000000</td>\n",
       "    </tr>\n",
       "    <tr>\n",
       "      <th>11</th>\n",
       "      <td>13734.318333</td>\n",
       "    </tr>\n",
       "    <tr>\n",
       "      <th>15</th>\n",
       "      <td>248213.125833</td>\n",
       "    </tr>\n",
       "    <tr>\n",
       "      <th>30</th>\n",
       "      <td>9244.237143</td>\n",
       "    </tr>\n",
       "    <tr>\n",
       "      <th>32</th>\n",
       "      <td>30722.851667</td>\n",
       "    </tr>\n",
       "  </tbody>\n",
       "</table>\n",
       "</div>"
      ],
      "text/plain": [
       "          avg_monthly_amt_overall\n",
       "party_rk                         \n",
       "8                     7737.000000\n",
       "11                   13734.318333\n",
       "15                  248213.125833\n",
       "30                    9244.237143\n",
       "32                   30722.851667"
      ]
     },
     "execution_count": 7,
     "metadata": {},
     "output_type": "execute_result"
    }
   ],
   "source": [
    "df_monthly_overall = df_monthly.groupby(['party_rk']).agg({'avg_monthly_amt': 'sum'})\n",
    "df_monthly_overall.rename(columns={'avg_monthly_amt': 'avg_monthly_amt_overall'}, inplace=True)\n",
    "print(df_monthly_overall.shape)\n",
    "df_monthly_overall.head()"
   ]
  },
  {
   "cell_type": "markdown",
   "metadata": {},
   "source": [
    "## Proportion of money spent on each merchant group"
   ]
  },
  {
   "cell_type": "code",
   "execution_count": 8,
   "metadata": {
    "scrolled": false
   },
   "outputs": [
    {
     "name": "stdout",
     "output_type": "stream",
     "text": [
      "(53577, 4)\n"
     ]
    },
    {
     "data": {
      "text/html": [
       "<div>\n",
       "<style scoped>\n",
       "    .dataframe tbody tr th:only-of-type {\n",
       "        vertical-align: middle;\n",
       "    }\n",
       "\n",
       "    .dataframe tbody tr th {\n",
       "        vertical-align: top;\n",
       "    }\n",
       "\n",
       "    .dataframe thead th {\n",
       "        text-align: right;\n",
       "    }\n",
       "</style>\n",
       "<table border=\"1\" class=\"dataframe\">\n",
       "  <thead>\n",
       "    <tr style=\"text-align: right;\">\n",
       "      <th></th>\n",
       "      <th>party_rk</th>\n",
       "      <th>merchant_group_rk</th>\n",
       "      <th>category</th>\n",
       "      <th>portion</th>\n",
       "    </tr>\n",
       "  </thead>\n",
       "  <tbody>\n",
       "    <tr>\n",
       "      <th>0</th>\n",
       "      <td>8</td>\n",
       "      <td>100.0</td>\n",
       "      <td>Разные товары</td>\n",
       "      <td>0.040196</td>\n",
       "    </tr>\n",
       "    <tr>\n",
       "      <th>1</th>\n",
       "      <td>8</td>\n",
       "      <td>113.0</td>\n",
       "      <td>Дом/Ремонт</td>\n",
       "      <td>0.008918</td>\n",
       "    </tr>\n",
       "    <tr>\n",
       "      <th>2</th>\n",
       "      <td>8</td>\n",
       "      <td>205.0</td>\n",
       "      <td>Красота</td>\n",
       "      <td>0.508595</td>\n",
       "    </tr>\n",
       "    <tr>\n",
       "      <th>3</th>\n",
       "      <td>8</td>\n",
       "      <td>341.0</td>\n",
       "      <td>Супермаркеты</td>\n",
       "      <td>0.060230</td>\n",
       "    </tr>\n",
       "    <tr>\n",
       "      <th>4</th>\n",
       "      <td>8</td>\n",
       "      <td>610.0</td>\n",
       "      <td>Супермаркеты</td>\n",
       "      <td>0.041877</td>\n",
       "    </tr>\n",
       "  </tbody>\n",
       "</table>\n",
       "</div>"
      ],
      "text/plain": [
       "   party_rk  merchant_group_rk       category   portion\n",
       "0         8              100.0  Разные товары  0.040196\n",
       "1         8              113.0     Дом/Ремонт  0.008918\n",
       "2         8              205.0        Красота  0.508595\n",
       "3         8              341.0   Супермаркеты  0.060230\n",
       "4         8              610.0   Супермаркеты  0.041877"
      ]
     },
     "execution_count": 8,
     "metadata": {},
     "output_type": "execute_result"
    }
   ],
   "source": [
    "df_monthly_portion = pd.merge(df_monthly, df_monthly_overall, on='party_rk')\n",
    "df_monthly_portion['portion'] = df_monthly_portion.avg_monthly_amt / df_monthly_portion.avg_monthly_amt_overall\n",
    "df_monthly_portion.drop(columns=['avg_monthly_amt', 'avg_monthly_amt_overall'], inplace=True)\n",
    "print(df_monthly_portion.shape)\n",
    "df_monthly_portion.head()"
   ]
  },
  {
   "cell_type": "markdown",
   "metadata": {},
   "source": [
    "### Check that sum of portions equals 1"
   ]
  },
  {
   "cell_type": "code",
   "execution_count": 9,
   "metadata": {},
   "outputs": [],
   "source": [
    "portion_check = df_monthly_portion.groupby(['party_rk']).agg({'portion': 'sum'})\n",
    "n_rows = portion_check.shape[0]\n",
    "eps = 1e-12\n",
    "n_ones = portion_check.loc[(portion_check.portion - 1).abs() < eps].shape[0]\n",
    "assert n_rows == n_ones"
   ]
  },
  {
   "cell_type": "markdown",
   "metadata": {},
   "source": [
    "## Renumber client IDs and merchant group IDs"
   ]
  },
  {
   "cell_type": "code",
   "execution_count": 10,
   "metadata": {
    "scrolled": true
   },
   "outputs": [
    {
     "name": "stdout",
     "output_type": "stream",
     "text": [
      "Min client ID: 8, max client ID: 94521\n",
      "Min client ID after renumbering: 0, max client ID after renumbering: 4140\n",
      "\n",
      "Min merchant group ID: 3.0, max merchant group ID: 2957.0\n",
      "Min merchant group ID after renumbering: 0, max merchant group ID after renumbering: 1774\n"
     ]
    }
   ],
   "source": [
    "print(f\"Min client ID: {df_monthly_portion.party_rk.values.min()},\", \\\n",
    "      f\"max client ID: {df_monthly_portion.party_rk.values.max()}\")\n",
    "df_monthly_portion.party_rk = df_monthly_portion.party_rk.rank(method='dense').astype(int) - 1\n",
    "print(f\"Min client ID after renumbering: {df_monthly_portion.party_rk.values.min()},\", \\\n",
    "      f\"max client ID after renumbering: {df_monthly_portion.party_rk.values.max()}\")\n",
    "\n",
    "print(f\"\\nMin merchant group ID: {df_monthly_portion.merchant_group_rk.values.min()},\", \\\n",
    "      f\"max merchant group ID: {df_monthly_portion.merchant_group_rk.values.max()}\")\n",
    "df_monthly_portion.merchant_group_rk = df_monthly_portion.merchant_group_rk.rank(method='dense').astype(int) - 1\n",
    "print(f\"Min merchant group ID after renumbering: {df_monthly_portion.merchant_group_rk.values.min()},\", \\\n",
    "      f\"max merchant group ID after renumbering: {df_monthly_portion.merchant_group_rk.values.max()}\")"
   ]
  },
  {
   "cell_type": "markdown",
   "metadata": {},
   "source": [
    "## Save data\n",
    "Data is saved as sparse matrix of shape **(number of clients, number of merchant groups)**. Elements of matrix are portions of money spend by customer on each merchant."
   ]
  },
  {
   "cell_type": "code",
   "execution_count": 11,
   "metadata": {},
   "outputs": [
    {
     "name": "stdout",
     "output_type": "stream",
     "text": [
      "(4141, 1775)\n"
     ]
    }
   ],
   "source": [
    "data_matrix = spsp.csr_matrix((df_monthly_portion.portion.values, \n",
    "                              (df_monthly_portion.party_rk.values, df_monthly_portion.merchant_group_rk.values)))\n",
    "print(data_matrix.shape)\n",
    "spsp.save_npz(\"data_matrix\", data_matrix)"
   ]
  }
 ],
 "metadata": {
  "kernelspec": {
   "display_name": "Python 3",
   "language": "python",
   "name": "python3"
  },
  "language_info": {
   "codemirror_mode": {
    "name": "ipython",
    "version": 3
   },
   "file_extension": ".py",
   "mimetype": "text/x-python",
   "name": "python",
   "nbconvert_exporter": "python",
   "pygments_lexer": "ipython3",
   "version": "3.7.9"
  }
 },
 "nbformat": 4,
 "nbformat_minor": 4
}
